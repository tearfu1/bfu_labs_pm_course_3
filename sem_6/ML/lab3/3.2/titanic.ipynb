{
 "cells": [
  {
   "cell_type": "markdown",
   "id": "load-data-titanic",
   "metadata": {},
   "source": [
    "## Загрузка и первоначальный осмотр данных"
   ]
  },
  {
   "cell_type": "code",
   "execution_count": 2,
   "id": "load-data-code-titanic",
   "metadata": {},
   "outputs": [],
   "source": [
    "import pandas as pd\n",
    "import numpy as np\n",
    "\n",
    "df_titanic = pd.read_csv('Titanic.csv')"
   ]
  },
  {
   "cell_type": "markdown",
   "id": "preprocessing-titanic",
   "metadata": {},
   "source": [
    "## Задание 1: Предобработка данных"
   ]
  },
  {
   "cell_type": "code",
   "execution_count": 8,
   "id": "preprocessing-code-titanic",
   "metadata": {},
   "outputs": [
    {
     "name": "stdout",
     "output_type": "stream",
     "text": [
      "Начальное количество строк: 891\n",
      "Количество строк после удаления пропусков (dropna): 183\n",
      "Столбцы после удаления нечисловых (кроме Sex, Embarked): ['PassengerId', 'Survived', 'Pclass', 'Sex', 'Age', 'SibSp', 'Parch', 'Fare', 'Embarked']\n",
      "Столбец 'PassengerId' удален.\n",
      "\n",
      "Процент потерянных данных: 79.46%\n"
     ]
    }
   ],
   "source": [
    "initial_rows = len(df_titanic)\n",
    "print(f\"Начальное количество строк: {initial_rows}\")\n",
    "\n",
    "df_titanic_cleaned = df_titanic.dropna()\n",
    "rows_after_dropna = len(df_titanic_cleaned)\n",
    "print(f\"Количество строк после удаления пропусков (dropna): {rows_after_dropna}\")\n",
    "\n",
    "df_before_column_drop = df_titanic_cleaned.copy()\n",
    "\n",
    "non_numeric_cols = df_titanic_cleaned.select_dtypes(include=['object']).columns\n",
    "cols_to_drop = [col for col in non_numeric_cols if col not in ['Sex', 'Embarked']]\n",
    "df_titanic_cleaned = df_titanic_cleaned.drop(columns=cols_to_drop)\n",
    "print(f\"Столбцы после удаления нечисловых (кроме Sex, Embarked): {df_titanic_cleaned.columns.tolist()}\")\n",
    "\n",
    "df_titanic_cleaned['Sex'] = df_titanic_cleaned['Sex'].map({'male': 0, 'female': 1})\n",
    "df_titanic_cleaned['Embarked'] = df_titanic_cleaned['Embarked'].map({'C': 1, 'Q': 2, 'S': 3})\n",
    "\n",
    "if 'PassengerId' in df_titanic_cleaned.columns:\n",
    "    df_titanic_cleaned = df_titanic_cleaned.drop(columns=['PassengerId'])\n",
    "    print(\"Столбец 'PassengerId' удален.\")\n",
    "else:\n",
    "    print(\"Столбец 'PassengerId' уже был удален или отсутствовал.\")\n",
    "\n",
    "loss_after_step1_1 = (initial_rows - rows_after_dropna) / initial_rows * 100\n",
    "print(f\"\\nПроцент потерянных данных: {loss_after_step1_1:.2f}%\")"
   ]
  },
  {
   "cell_type": "markdown",
   "id": "ml-titanic",
   "metadata": {},
   "source": [
    "## Задание 2: Машинное обучение"
   ]
  },
  {
   "cell_type": "code",
   "execution_count": 15,
   "id": "ml-code-titanic",
   "metadata": {},
   "outputs": [
    {
     "name": "stdout",
     "output_type": "stream",
     "text": [
      "Размер обучающей выборки: (146, 7), тестовой: (37, 7)\n",
      "\n",
      "Точность модели логистической регрессии (со всеми признаками): 0.7838\n",
      "\n",
      "Оценка влияния признака 'Embarked':\n",
      "Точность модели без признака 'Embarked': 0.7455\n",
      "Разница в точности: 0.0383\n"
     ]
    }
   ],
   "source": [
    "from sklearn.model_selection import train_test_split\n",
    "from sklearn.linear_model import LogisticRegression\n",
    "from sklearn.metrics import accuracy_score\n",
    "\n",
    "\n",
    "X = df_titanic_cleaned.drop('Survived', axis=1)\n",
    "y = df_titanic_cleaned['Survived']\n",
    "\n",
    "X_train, X_test, y_train, y_test = train_test_split(X, y, test_size=0.2, random_state=42, stratify=y)\n",
    "print(f\"Размер обучающей выборки: {X_train.shape}, тестовой: {X_test.shape}\")\n",
    "\n",
    "\n",
    "model = LogisticRegression(random_state=42, max_iter=1000)\n",
    "model.fit(X_train, y_train)\n",
    "\n",
    "y_pred = model.predict(X_test)\n",
    "accuracy = accuracy_score(y_test, y_pred)\n",
    "print(f\"\\nТочность модели логистической регрессии (со всеми признаками): {accuracy:.4f}\")\n",
    "\n",
    "print(\"\\nОценка влияния признака 'Embarked':\")\n",
    "X_no_embarked = X.drop('Embarked', axis=1)\n",
    "X_train_ne, X_test_ne, y_train_ne, y_test_ne = train_test_split(X_no_embarked, y, test_size=0.3, random_state=42, stratify=y)\n",
    "\n",
    "model_ne = LogisticRegression(random_state=42, max_iter=1000)\n",
    "model_ne.fit(X_train_ne, y_train_ne)\n",
    "y_pred_ne = model_ne.predict(X_test_ne)\n",
    "accuracy_ne = accuracy_score(y_test_ne, y_pred_ne)\n",
    "print(f\"Точность модели без признака 'Embarked': {accuracy_ne:.4f}\")\n",
    "print(f\"Разница в точности: {accuracy - accuracy_ne:.4f}\")\n"
   ]
  }
 ],
 "metadata": {
  "kernelspec": {
   "display_name": ".venv",
   "language": "python",
   "name": "python3"
  },
  "language_info": {
   "codemirror_mode": {
    "name": "ipython",
    "version": 3
   },
   "file_extension": ".py",
   "mimetype": "text/x-python",
   "name": "python",
   "nbconvert_exporter": "python",
   "pygments_lexer": "ipython3",
   "version": "3.13.2"
  }
 },
 "nbformat": 4,
 "nbformat_minor": 5
}
